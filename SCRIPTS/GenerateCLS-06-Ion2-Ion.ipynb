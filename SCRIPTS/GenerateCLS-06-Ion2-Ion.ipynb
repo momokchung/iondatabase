{
 "cells": [
  {
   "cell_type": "code",
   "execution_count": 1,
   "id": "f6533287",
   "metadata": {},
   "outputs": [],
   "source": [
    "import os\n",
    "import ion_gen as ig"
   ]
  },
  {
   "cell_type": "code",
   "execution_count": 2,
   "id": "2dc86a4e",
   "metadata": {},
   "outputs": [],
   "source": [
    "cwd = os.getcwd()"
   ]
  },
  {
   "cell_type": "code",
   "execution_count": 3,
   "id": "240d92a9",
   "metadata": {},
   "outputs": [],
   "source": [
    "def splitDimer(dimer):\n",
    "    if dimer == \"LiF\":\n",
    "        ion1 = \"Li\"\n",
    "        ion2 = \"F\"\n",
    "    elif dimer == \"LiCl\":\n",
    "        ion1 = \"Li\"\n",
    "        ion2 = \"Cl\"\n",
    "    elif dimer == \"LiBr\":\n",
    "        ion1 = \"Li\"\n",
    "        ion2 = \"Br\"\n",
    "    elif dimer == \"NaF\":\n",
    "        ion1 = \"Na\"\n",
    "        ion2 = \"F\"\n",
    "    elif dimer == \"NaCl\":\n",
    "        ion1 = \"Na\"\n",
    "        ion2 = \"Cl\"\n",
    "    elif dimer == \"NaBr\":\n",
    "        ion1 = \"Na\"\n",
    "        ion2 = \"Br\"\n",
    "    elif dimer == \"KF\":\n",
    "        ion1 = \"K\"\n",
    "        ion2 = \"F\"\n",
    "    elif dimer == \"KCl\":\n",
    "        ion1 = \"K\"\n",
    "        ion2 = \"Cl\"\n",
    "    elif dimer == \"KBr\":\n",
    "        ion1 = \"K\"\n",
    "        ion2 = \"Br\"\n",
    "    return ion1,ion2"
   ]
  },
  {
   "cell_type": "code",
   "execution_count": 4,
   "id": "03fc300a",
   "metadata": {},
   "outputs": [],
   "source": [
    "# MP2\n",
    "\n",
    "mp2Dir = f\"{cwd}/../MP2\"\n",
    "os.chdir(mp2Dir)\n",
    "\n",
    "for key,item in ig.ion2Ion.items():\n",
    "    split = key.split(\"-\")\n",
    "    dimer = split[0]\n",
    "    ion1,ion2 = splitDimer(dimer)\n",
    "    ion3 = split[1]\n",
    "    ac1 = ig.atomCharge[ion1]\n",
    "    ac2 = ig.atomCharge[ion2]\n",
    "    ac3 = ig.atomCharge[ion3]\n",
    "    index = ig.index[key]\n",
    "    distances = ig.allTwoBody[key]\n",
    "    if ion1 in [\"Li\",\"Na\",\"K\"] and ion3 in [\"Li\",\"Na\",\"K\"]:\n",
    "        ion = ion1\n",
    "        ac = ac1\n",
    "        ion1 = ion2\n",
    "        ac1 = ac2\n",
    "        ion2 = ion\n",
    "        ac2 = ac\n",
    "    for dist in distances:\n",
    "        fileName = f\"{index}_{key}_CLS_{dist:3.2f}_mp2.in\"\n",
    "        f = open(fileName,\"w\")\n",
    "        f.write(ig.psi4Header.format(ig.memory))\n",
    "        f.write(ig.psi4Molecule.format(ig.ion2IonCLSPsi4.format(ac1+ac2+ac3,ion1,ion2,item,ion3,item*dist)))\n",
    "        f.write(ig.psi4Set.format(ig.mp2SetPsi4))\n",
    "        f.write(ig.psi4Final.format(ig.mp2FinalNoCPPsi4))\n",
    "        f.close()\n",
    "        fileName = f\"{index}_{key}_CLS_{dist:3.2f}_0_mp2.in\"\n",
    "        f = open(fileName,\"w\")\n",
    "        f.write(ig.psi4Header.format(ig.memory))\n",
    "        f.write(ig.psi4Molecule.format(ig.ion2IonCLSPsi4.format(ac1,ion1,f\"Gh({ion2})\",item,f\"Gh({ion3})\",item*dist)))\n",
    "        f.write(ig.psi4Set.format(ig.mp2SetPsi4))\n",
    "        f.write(ig.psi4Final.format(ig.mp2FinalNoCPPsi4))\n",
    "        f.close()\n",
    "        fileName = f\"{index}_{key}_CLS_{dist:3.2f}_1_mp2.in\"\n",
    "        f = open(fileName,\"w\")\n",
    "        f.write(ig.psi4Header.format(ig.memory))\n",
    "        f.write(ig.psi4Molecule.format(ig.ion2IonCLSPsi4.format(ac2,f\"Gh({ion1})\",ion2,item,f\"Gh({ion3})\",item*dist)))\n",
    "        f.write(ig.psi4Set.format(ig.mp2SetPsi4))\n",
    "        f.write(ig.psi4Final.format(ig.mp2FinalNoCPPsi4))\n",
    "        f.close()\n",
    "        fileName = f\"{index}_{key}_CLS_{dist:3.2f}_2_mp2.in\"\n",
    "        f = open(fileName,\"w\")\n",
    "        f.write(ig.psi4Header.format(ig.memory))\n",
    "        f.write(ig.psi4Molecule.format(ig.ion2IonCLSPsi4.format(ac3,f\"Gh({ion1})\",f\"Gh({ion2})\",item,ion3,item*dist)))\n",
    "        f.write(ig.psi4Set.format(ig.mp2SetPsi4))\n",
    "        f.write(ig.psi4Final.format(ig.mp2FinalNoCPPsi4))\n",
    "        f.close()"
   ]
  },
  {
   "cell_type": "code",
   "execution_count": null,
   "id": "25b1d429-8b91-4025-ae98-75342787bf28",
   "metadata": {},
   "outputs": [],
   "source": []
  }
 ],
 "metadata": {
  "kernelspec": {
   "display_name": "Python 3 (ipykernel)",
   "language": "python",
   "name": "python3"
  },
  "language_info": {
   "codemirror_mode": {
    "name": "ipython",
    "version": 3
   },
   "file_extension": ".py",
   "mimetype": "text/x-python",
   "name": "python",
   "nbconvert_exporter": "python",
   "pygments_lexer": "ipython3",
   "version": "3.10.9"
  }
 },
 "nbformat": 4,
 "nbformat_minor": 5
}
