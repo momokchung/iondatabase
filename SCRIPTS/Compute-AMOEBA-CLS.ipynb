{
 "cells": [
  {
   "cell_type": "code",
   "execution_count": null,
   "id": "1503099d",
   "metadata": {},
   "outputs": [],
   "source": [
    "import os\n",
    "import ion_gen as ig\n",
    "import compute as cm"
   ]
  },
  {
   "cell_type": "code",
   "execution_count": null,
   "id": "554d5764",
   "metadata": {},
   "outputs": [],
   "source": [
    "cwd = os.getcwd()\n",
    "xyzDir = f\"{cwd}/../XYZ/AMOEBA\"\n",
    "os.chdir(xyzDir)\n",
    "\n",
    "exe = \"~/tinker/source/analyze.x\"\n",
    "\n",
    "tkey = \"~/iondatabase/PARAMS/amoebabio18.key\"\n",
    "title = \"ions.AMOEBACLS.dat\"\n",
    "\n",
    "# # For modified F-\n",
    "# tkey = \"~/iondatabase/PARAMS/amoebabio18f.key\"\n",
    "# title = \"ions.AMOEBAFCLS.dat\""
   ]
  },
  {
   "cell_type": "code",
   "execution_count": null,
   "id": "786c3b86",
   "metadata": {},
   "outputs": [],
   "source": [
    "# Compute-03-CLS\n",
    "\n",
    "fn03 = []\n",
    "compute03 = []\n",
    "\n",
    "for key,item in ig.ion2WaterEquil.items():\n",
    "    index = ig.index[key]\n",
    "    distances = ig.allTwoBody[key]\n",
    "    for dist in distances:\n",
    "        fn = f\"{index}_{key}_{dist:3.2f}\"\n",
    "        xyz = f\"{fn}.xyz\"\n",
    "        energy = cm.analyze(exe, tkey, xyz)\n",
    "        fn03.append(fn)\n",
    "        compute03.append(energy)"
   ]
  },
  {
   "cell_type": "code",
   "execution_count": null,
   "id": "b7a5670d",
   "metadata": {},
   "outputs": [],
   "source": [
    "# Compute-04-CLS\n",
    "\n",
    "fn04 = []\n",
    "compute04 = []\n",
    "\n",
    "for key in ig.ionManyWater:\n",
    "    index = ig.index[key]\n",
    "    fn = f\"{index}_{key}\"\n",
    "    xyz = f\"{fn}.xyz\"\n",
    "    energy = cm.analyze(exe, tkey, xyz)\n",
    "    fn04.append(fn)\n",
    "    compute04.append(energy)"
   ]
  },
  {
   "cell_type": "code",
   "execution_count": null,
   "id": "316a0951",
   "metadata": {},
   "outputs": [],
   "source": [
    "# Compute-06-CLS\n",
    "\n",
    "fn06 = []\n",
    "compute06 = []\n",
    "\n",
    "for key,item in ig.ion2Ion.items():\n",
    "    index = ig.index[key]\n",
    "    distances = ig.allTwoBody[key]\n",
    "    for dist in distances:\n",
    "        fn = f\"{index}_{key}_{dist:3.2f}\"\n",
    "        xyz = f\"{fn}.xyz\"\n",
    "        energy = cm.analyze(exe, tkey, xyz)\n",
    "        fn06.append(fn)\n",
    "        compute06.append(energy)"
   ]
  },
  {
   "cell_type": "code",
   "execution_count": null,
   "id": "60075c74",
   "metadata": {},
   "outputs": [],
   "source": [
    "# Compute-09-CLS\n",
    "\n",
    "fn09 = []\n",
    "compute09 = []\n",
    "\n",
    "for key in ig.ion2WaterNeq:\n",
    "    index = ig.index[key]\n",
    "    distances = ig.allTwoBody[key]\n",
    "    for dist in distances:\n",
    "        fn = f\"{index}_{key}_{dist:3.2f}\"\n",
    "        xyz = f\"{fn}.xyz\"\n",
    "        energy = cm.analyze(exe, tkey, xyz)\n",
    "        fn09.append(fn)\n",
    "        compute09.append(energy)"
   ]
  },
  {
   "cell_type": "code",
   "execution_count": null,
   "id": "2d4ba3d8",
   "metadata": {},
   "outputs": [],
   "source": [
    "# Compute-10-CLS\n",
    "\n",
    "fn10 = []\n",
    "compute10 = []\n",
    "\n",
    "for key,value in ig.ionClsWater.items():\n",
    "    index = ig.index[key]\n",
    "    frames = ig.allTwoBody[key]\n",
    "    for frame in frames:\n",
    "        fn = f\"{index}_{key}_{str(frame).zfill(3)}\"\n",
    "        xyz = f\"{fn}.xyz\"\n",
    "        energy = cm.analyze(exe, tkey, xyz)\n",
    "        fn10.append(fn)\n",
    "        compute10.append(energy)"
   ]
  },
  {
   "cell_type": "code",
   "execution_count": null,
   "id": "00af31f0",
   "metadata": {},
   "outputs": [],
   "source": [
    "baseDir = f\"{cwd}/..\"\n",
    "os.chdir(baseDir)\n",
    "\n",
    "amoebaHeader = \"Filename                                   AMOEBA\\n\"\n",
    "amoebaTemp = \"{:33}{:16.6f}\\n\"\n",
    "\n",
    "fw = open(title,\"w\")\n",
    "fw.write(amoebaHeader)\n",
    "\n",
    "all_fn = [\n",
    "    fn03,\n",
    "    fn04,\n",
    "    fn06,\n",
    "    fn09,\n",
    "    fn10,\n",
    "]\n",
    "\n",
    "all_compute = [\n",
    "    compute03,\n",
    "    compute04,\n",
    "    compute06,\n",
    "    compute09,\n",
    "    compute10,\n",
    "]\n",
    "\n",
    "for i in range(5):\n",
    "    fni = all_fn[i]\n",
    "    computei = all_compute[i]\n",
    "    for j in range(len(fni)):\n",
    "        fn = fni[j]\n",
    "        compute = computei[j]\n",
    "        eint = compute.int\n",
    "        epot = compute.pot\n",
    "        evdw = compute.vdw\n",
    "        eele = compute.ele\n",
    "        epol = compute.pol\n",
    "        # 06\n",
    "        if i == 2:\n",
    "            e = epot\n",
    "        else:\n",
    "            e = eint\n",
    "        fw.write(amoebaTemp.format(fn, e))\n",
    "\n",
    "fw.close()"
   ]
  },
  {
   "cell_type": "code",
   "execution_count": null,
   "id": "18f64f3b",
   "metadata": {},
   "outputs": [],
   "source": []
  }
 ],
 "metadata": {
  "kernelspec": {
   "display_name": "Python 3 (ipykernel)",
   "language": "python",
   "name": "python3"
  },
  "language_info": {
   "codemirror_mode": {
    "name": "ipython",
    "version": 3
   },
   "file_extension": ".py",
   "mimetype": "text/x-python",
   "name": "python",
   "nbconvert_exporter": "python",
   "pygments_lexer": "ipython3",
   "version": "3.10.9"
  }
 },
 "nbformat": 4,
 "nbformat_minor": 5
}
