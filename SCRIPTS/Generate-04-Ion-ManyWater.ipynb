{
 "cells": [
  {
   "cell_type": "code",
   "execution_count": 1,
   "id": "9e301c74-444d-4bad-a7fd-ff34749e672a",
   "metadata": {},
   "outputs": [],
   "source": [
    "import os\n",
    "import ion_gen as ig\n",
    "import structure as st\n",
    "import re"
   ]
  },
  {
   "cell_type": "code",
   "execution_count": 2,
   "id": "59450bcb-89bc-4d0c-b501-e9057de03f4a",
   "metadata": {},
   "outputs": [],
   "source": [
    "cwd = os.getcwd()"
   ]
  },
  {
   "cell_type": "code",
   "execution_count": 3,
   "id": "e6af5d00-9338-4225-90a4-1fd9b45abba6",
   "metadata": {},
   "outputs": [],
   "source": [
    "# Tinker\n",
    "\n",
    "xyzDir = f\"{cwd}/../XYZ\"\n",
    "os.chdir(xyzDir)\n",
    "\n",
    "for key in ig.ionManyWater:\n",
    "    split = key.split(\"-\")\n",
    "    ion1 = split[0]\n",
    "    at1 = ig.atomType[ion1]\n",
    "    index = ig.index[key]\n",
    "    nw = int(re.search(r'\\d+', key).group())\n",
    "    struct = st.ionManyWaterStruct[key]\n",
    "    fileName = f\"{index}_{key}.xyz\"\n",
    "    if nw == 3:\n",
    "        xyz = ig.ion3WaterXyz.format(ion1,0,at1,*struct)\n",
    "    elif nw == 4:\n",
    "        xyz = ig.ion4WaterXyz.format(ion1,0,at1,*struct)\n",
    "    elif nw == 5:\n",
    "        xyz = ig.ion5WaterXyz.format(ion1,0,at1,*struct)\n",
    "    elif nw == 6:\n",
    "        xyz = ig.ion6WaterXyz.format(ion1,0,at1,*struct)\n",
    "    f = open(fileName,\"w\")\n",
    "    f.write(xyz)\n",
    "    f.close()"
   ]
  },
  {
   "cell_type": "code",
   "execution_count": 4,
   "id": "cb17e9cc-b6ff-456f-9bc5-817d381488cb",
   "metadata": {},
   "outputs": [],
   "source": [
    "# MP2\n",
    "\n",
    "mp2Dir = f\"{cwd}/../MP2\"\n",
    "os.chdir(mp2Dir)\n",
    "\n",
    "for key in ig.ionManyWater:\n",
    "    split = key.split(\"-\")\n",
    "    ion1 = split[0]\n",
    "    ac1 = ig.atomCharge[ion1]\n",
    "    index = ig.index[key]\n",
    "    nw = int(re.search(r'\\d+', key).group())\n",
    "    struct = st.ionManyWaterStruct[key]\n",
    "    fileName = f\"{index}_{key}_mp2.in\"\n",
    "    if nw == 3:\n",
    "        xyz = ig.ion3WaterPsi4.format(ac1,ion1,0,*struct)\n",
    "    elif nw == 4:\n",
    "        xyz = ig.ion4WaterPsi4.format(ac1,ion1,0,*struct)\n",
    "    elif nw == 5:\n",
    "        xyz = ig.ion5WaterPsi4.format(ac1,ion1,0,*struct)\n",
    "    elif nw == 6:\n",
    "        xyz = ig.ion6WaterPsi4.format(ac1,ion1,0,*struct)\n",
    "    f = open(fileName,\"w\")\n",
    "    f.write(ig.psi4Header.format(ig.memory))\n",
    "    f.write(ig.psi4Molecule.format(xyz))\n",
    "    f.write(ig.psi4Set.format(ig.mp2SetPsi4))\n",
    "    f.write(ig.psi4Final.format(ig.mp2FinalPsi4))\n",
    "    f.close()"
   ]
  },
  {
   "cell_type": "code",
   "execution_count": 5,
   "id": "c5d9ac92-6e3c-4a3e-a8c1-7b3ef050a9d6",
   "metadata": {},
   "outputs": [],
   "source": [
    "# SAPT2+\n",
    "\n",
    "saptDir = f\"{cwd}/../SAPT2+\"\n",
    "os.chdir(saptDir)\n",
    "\n",
    "for key in ig.ionManyWater:\n",
    "    split = key.split(\"-\")\n",
    "    ion1 = split[0]\n",
    "    ac1 = ig.atomCharge[ion1]\n",
    "    index = ig.index[key]\n",
    "    nw = int(re.search(r'\\d+', key).group())\n",
    "    struct = st.ionManyWaterStruct[key]\n",
    "    fileName = f\"{index}_{key}_sapt.in\"\n",
    "    if nw == 3:\n",
    "        xyz = ig.ion3WaterPsi4.format(ac1,ion1,0,*struct)\n",
    "    elif nw == 4:\n",
    "        xyz = ig.ion4WaterPsi4.format(ac1,ion1,0,*struct)\n",
    "    elif nw == 5:\n",
    "        xyz = ig.ion5WaterPsi4.format(ac1,ion1,0,*struct)\n",
    "    elif nw == 6:\n",
    "        xyz = ig.ion6WaterPsi4.format(ac1,ion1,0,*struct)\n",
    "    f = open(fileName,\"w\")\n",
    "    f.write(ig.psi4Header.format(ig.memory))\n",
    "    f.write(ig.psi4Molecule.format(xyz))\n",
    "    f.write(ig.psi4Set.format(ig.saptSetPsi4))\n",
    "    f.write(ig.psi4Final.format(ig.saptFinalPsi4))\n",
    "    f.close()"
   ]
  },
  {
   "cell_type": "code",
   "execution_count": 6,
   "id": "d9133919-afc7-4703-b204-e04b67a4dc8a",
   "metadata": {},
   "outputs": [],
   "source": [
    "# ALMO\n",
    "\n",
    "almoDir = f\"{cwd}/../ALMO\"\n",
    "os.chdir(almoDir)\n",
    "\n",
    "for key in ig.ionManyWater:\n",
    "    split = key.split(\"-\")\n",
    "    ion1 = split[0]\n",
    "    ac1 = ig.atomCharge[ion1]\n",
    "    index = ig.index[key]\n",
    "    nw = int(re.search(r'\\d+', key).group())\n",
    "    struct = st.ionManyWaterStruct[key]\n",
    "    fileName = f\"{index}_{key}_almo.in\"\n",
    "    if nw == 3:\n",
    "        xyz = ig.ion3WaterQchem.format(ac1,ac1,ion1,0,*struct)\n",
    "    elif nw == 4:\n",
    "        xyz = ig.ion4WaterQchem.format(ac1,ac1,ion1,0,*struct)\n",
    "    elif nw == 5:\n",
    "        xyz = ig.ion5WaterQchem.format(ac1,ac1,ion1,0,*struct)\n",
    "    elif nw == 6:\n",
    "        xyz = ig.ion6WaterQchem.format(ac1,ac1,ion1,0,*struct)\n",
    "    f = open(fileName,\"w\")\n",
    "    f.write(ig.almoMolecule.format(xyz))\n",
    "    f.write(ig.almoFinal.format(ig.almoBasis))\n",
    "    f.close()"
   ]
  },
  {
   "cell_type": "code",
   "execution_count": null,
   "id": "38f93614-dc49-412f-b962-737b7eb5b74a",
   "metadata": {},
   "outputs": [],
   "source": []
  }
 ],
 "metadata": {
  "kernelspec": {
   "display_name": "Python 3 (ipykernel)",
   "language": "python",
   "name": "python3"
  },
  "language_info": {
   "codemirror_mode": {
    "name": "ipython",
    "version": 3
   },
   "file_extension": ".py",
   "mimetype": "text/x-python",
   "name": "python",
   "nbconvert_exporter": "python",
   "pygments_lexer": "ipython3",
   "version": "3.10.9"
  }
 },
 "nbformat": 4,
 "nbformat_minor": 5
}
