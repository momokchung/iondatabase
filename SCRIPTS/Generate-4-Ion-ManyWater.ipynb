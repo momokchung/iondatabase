{
 "cells": [
  {
   "cell_type": "code",
   "execution_count": 1,
   "id": "9e301c74-444d-4bad-a7fd-ff34749e672a",
   "metadata": {},
   "outputs": [],
   "source": [
    "import os\n",
    "import ion_gen as ig\n",
    "import structure as st\n",
    "import re"
   ]
  },
  {
   "cell_type": "code",
   "execution_count": 2,
   "id": "59450bcb-89bc-4d0c-b501-e9057de03f4a",
   "metadata": {},
   "outputs": [],
   "source": [
    "cwd = os.getcwd()"
   ]
  },
  {
   "cell_type": "code",
   "execution_count": 3,
   "id": "e6af5d00-9338-4225-90a4-1fd9b45abba6",
   "metadata": {},
   "outputs": [
    {
     "ename": "NameError",
     "evalue": "name 'ionManyWaterStruct' is not defined",
     "output_type": "error",
     "traceback": [
      "\u001b[0;31m---------------------------------------------------------------------------\u001b[0m",
      "\u001b[0;31mNameError\u001b[0m                                 Traceback (most recent call last)",
      "Input \u001b[0;32mIn [3]\u001b[0m, in \u001b[0;36m<cell line: 6>\u001b[0;34m()\u001b[0m\n\u001b[1;32m     10\u001b[0m index \u001b[38;5;241m=\u001b[39m ig\u001b[38;5;241m.\u001b[39mindex[key]\n\u001b[1;32m     11\u001b[0m nw \u001b[38;5;241m=\u001b[39m \u001b[38;5;28mint\u001b[39m(re\u001b[38;5;241m.\u001b[39msearch(\u001b[38;5;124mr\u001b[39m\u001b[38;5;124m'\u001b[39m\u001b[38;5;124m\\\u001b[39m\u001b[38;5;124md+\u001b[39m\u001b[38;5;124m'\u001b[39m, key)\u001b[38;5;241m.\u001b[39mgroup())\n\u001b[0;32m---> 12\u001b[0m struct \u001b[38;5;241m=\u001b[39m \u001b[43mionManyWaterStruct\u001b[49m[key]\n\u001b[1;32m     13\u001b[0m fileName \u001b[38;5;241m=\u001b[39m \u001b[38;5;124mf\u001b[39m\u001b[38;5;124m\"\u001b[39m\u001b[38;5;132;01m{\u001b[39;00mindex\u001b[38;5;132;01m}\u001b[39;00m\u001b[38;5;124m_\u001b[39m\u001b[38;5;132;01m{\u001b[39;00mkey\u001b[38;5;132;01m}\u001b[39;00m\u001b[38;5;124m.xyz\u001b[39m\u001b[38;5;124m\"\u001b[39m\n\u001b[1;32m     14\u001b[0m \u001b[38;5;28;01mif\u001b[39;00m nw \u001b[38;5;241m==\u001b[39m \u001b[38;5;241m3\u001b[39m:\n",
      "\u001b[0;31mNameError\u001b[0m: name 'ionManyWaterStruct' is not defined"
     ]
    }
   ],
   "source": [
    "# Tinker\n",
    "\n",
    "xyzDir = f\"{cwd}/../XYZ\"\n",
    "os.chdir(xyzDir)\n",
    "\n",
    "for key in ig.ionManyWater:\n",
    "    split = key.split(\"-\")\n",
    "    ion1 = split[0]\n",
    "    at1 = ig.atomType[ion1]\n",
    "    index = ig.index[key]\n",
    "    nw = int(re.search(r'\\d+', key).group())\n",
    "    struct = ionManyWaterStruct[key]\n",
    "    fileName = f\"{index}_{key}.xyz\"\n",
    "    if nw == 3:\n",
    "        xyz = ig.ion3WaterXyz.format(ion1,0,at1,*struct)\n",
    "    elif nw == 4:\n",
    "        xyz = ig.ion4WaterXyz.format(ion1,0,at1,*struct)\n",
    "    elif nw == 5:\n",
    "        xyz = ig.ion5WaterXyz.format(ion1,0,at1,*struct)\n",
    "    elif nw == 6:\n",
    "        xyz = ig.ion6WaterXyz.format(ion1,0,at1,*struct)\n",
    "    f = open(fileName,\"w\")\n",
    "    f.write(xyz)\n",
    "    f.close()"
   ]
  },
  {
   "cell_type": "code",
   "execution_count": null,
   "id": "cb17e9cc-b6ff-456f-9bc5-817d381488cb",
   "metadata": {},
   "outputs": [],
   "source": [
    "# MP2\n",
    "\n",
    "memory = 60\n",
    "setPsi4 = \"\"\"\n",
    "basis        aug-cc-pVTZ\n",
    "scf_type     df\n",
    "\"\"\"\n",
    "method = \"mp2\"\n",
    "finalPsi4 = f\"energy(\\\"{method}\\\", bsse_type=\\\"cp\\\")\"\n",
    "\n",
    "mp2Dir = f\"{cwd}/../MP2\"\n",
    "os.chdir(mp2Dir)\n",
    "\n",
    "for key in ig.ionManyWater:\n",
    "    split = key.split(\"-\")\n",
    "    ion1 = split[0]\n",
    "    ac1 = ig.atomCharge[ion1]\n",
    "    index = ig.index[key]\n",
    "    nw = int(re.search(r'\\d+', key).group())\n",
    "    struct = ionManyWaterStruct[key]\n",
    "    fileName = f\"{index}_{key}_mp2.in\"\n",
    "    if nw == 3:\n",
    "        xyz = ig.ion3WaterPsi4.format(ac1,ion1,0,*struct)\n",
    "    elif nw == 4:\n",
    "        xyz = ig.ion4WaterPsi4.format(ac1,ion1,0,*struct)\n",
    "    elif nw == 5:\n",
    "        xyz = ig.ion5WaterPsi4.format(ac1,ion1,0,*struct)\n",
    "    elif nw == 6:\n",
    "        xyz = ig.ion6WaterPsi4.format(ac1,ion1,0,*struct)\n",
    "    f = open(fileName,\"w\")\n",
    "    f.write(ig.psi4Header.format(memory))\n",
    "    f.write(ig.psi4Molecule.format(xyz))\n",
    "    f.write(ig.psi4Set.format(setPsi4))\n",
    "    f.write(ig.psi4Final.format(finalPsi4))\n",
    "    f.close()"
   ]
  },
  {
   "cell_type": "code",
   "execution_count": null,
   "id": "c5d9ac92-6e3c-4a3e-a8c1-7b3ef050a9d6",
   "metadata": {},
   "outputs": [],
   "source": [
    "# SAPT2+\n",
    "\n",
    "memory = 60\n",
    "setPsi4 = \"\"\"\n",
    "basis        aug-cc-pVTZ\n",
    "scf_type     df\n",
    "\"\"\"\n",
    "method = \"sapt2+\"\n",
    "finalPsi4 = f\"energy(\\\"{method}\\\")\"\n",
    "\n",
    "saptDir = f\"{cwd}/../SAPT2+\"\n",
    "os.chdir(saptDir)\n",
    "\n",
    "for key in ig.ionManyWater:\n",
    "    split = key.split(\"-\")\n",
    "    ion1 = split[0]\n",
    "    ac1 = ig.atomCharge[ion1]\n",
    "    index = ig.index[key]\n",
    "    nw = int(re.search(r'\\d+', key).group())\n",
    "    struct = ionManyWaterStruct[key]\n",
    "    fileName = f\"{index}_{key}_sapt.in\"\n",
    "    if nw == 3:\n",
    "        xyz = ig.ion3WaterPsi4.format(ac1,ion1,0,*struct)\n",
    "    elif nw == 4:\n",
    "        xyz = ig.ion4WaterPsi4.format(ac1,ion1,0,*struct)\n",
    "    elif nw == 5:\n",
    "        xyz = ig.ion5WaterPsi4.format(ac1,ion1,0,*struct)\n",
    "    elif nw == 6:\n",
    "        xyz = ig.ion6WaterPsi4.format(ac1,ion1,0,*struct)\n",
    "    f = open(fileName,\"w\")\n",
    "    f.write(ig.psi4Header.format(memory))\n",
    "    f.write(ig.psi4Molecule.format(xyz))\n",
    "    f.write(ig.psi4Set.format(setPsi4))\n",
    "    f.write(ig.psi4Final.format(finalPsi4))\n",
    "    f.close()"
   ]
  },
  {
   "cell_type": "code",
   "execution_count": null,
   "id": "d9133919-afc7-4703-b204-e04b67a4dc8a",
   "metadata": {},
   "outputs": [],
   "source": [
    "# ALMO\n",
    "\n",
    "basis = \"def2-TZVPPD\"\n",
    "\n",
    "almoDir = f\"{cwd}/../ALMO\"\n",
    "os.chdir(almoDir)\n",
    "\n",
    "for key in ig.ionManyWater:\n",
    "    split = key.split(\"-\")\n",
    "    ion1 = split[0]\n",
    "    ac1 = ig.atomCharge[ion1]\n",
    "    index = ig.index[key]\n",
    "    nw = int(re.search(r'\\d+', key).group())\n",
    "    struct = ionManyWaterStruct[key]\n",
    "    fileName = f\"{index}_{key}_almo.in\"\n",
    "    if nw == 3:\n",
    "        xyz = ig.ion3WaterQchem.format(ac1,ac1,ion1,0,*struct)\n",
    "    elif nw == 4:\n",
    "        xyz = ig.ion4WaterQchem.format(ac1,ac1,ion1,0,*struct)\n",
    "    elif nw == 5:\n",
    "        xyz = ig.ion5WaterQchem.format(ac1,ac1,ion1,0,*struct)\n",
    "    elif nw == 6:\n",
    "        xyz = ig.ion6WaterQchem.format(ac1,ac1,ion1,0,*struct)\n",
    "    f = open(fileName,\"w\")\n",
    "    f.write(ig.almoMolecule.format(xyz))\n",
    "    f.write(ig.almoFinal.format(basis))\n",
    "    f.close()"
   ]
  },
  {
   "cell_type": "code",
   "execution_count": null,
   "id": "38f93614-dc49-412f-b962-737b7eb5b74a",
   "metadata": {},
   "outputs": [],
   "source": []
  }
 ],
 "metadata": {
  "kernelspec": {
   "display_name": "Python 3 (ipykernel)",
   "language": "python",
   "name": "python3"
  },
  "language_info": {
   "codemirror_mode": {
    "name": "ipython",
    "version": 3
   },
   "file_extension": ".py",
   "mimetype": "text/x-python",
   "name": "python",
   "nbconvert_exporter": "python",
   "pygments_lexer": "ipython3",
   "version": "3.10.9"
  }
 },
 "nbformat": 4,
 "nbformat_minor": 5
}
