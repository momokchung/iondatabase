{
 "cells": [
  {
   "cell_type": "code",
   "execution_count": 1,
   "id": "f6533287",
   "metadata": {},
   "outputs": [],
   "source": [
    "import os\n",
    "import ion_gen as ig"
   ]
  },
  {
   "cell_type": "code",
   "execution_count": 2,
   "id": "2dc86a4e",
   "metadata": {},
   "outputs": [],
   "source": [
    "cwd = os.getcwd()"
   ]
  },
  {
   "cell_type": "code",
   "execution_count": 3,
   "id": "d9052773",
   "metadata": {},
   "outputs": [],
   "source": [
    "# # Tinker\n",
    "\n",
    "# xyzDir = f\"{cwd}/../XYZ\"\n",
    "# os.chdir(xyzDir)\n",
    "\n",
    "# for key in ig.ionIon:\n",
    "#     split = key.split(\"-\")\n",
    "#     ion1 = split[0]\n",
    "#     ion2 = split[1]\n",
    "#     at1 = ig.atomType[ion1]\n",
    "#     at2 = ig.atomType[ion2]\n",
    "#     index = ig.index[key]\n",
    "#     distances = ig.allTwoBody[key]\n",
    "#     vdw1 = ig.vdwRadii[ion1]\n",
    "#     vdw2 = ig.vdwRadii[ion2]\n",
    "#     equil = vdw1 + vdw2\n",
    "#     for dist in distances:\n",
    "#         fileName = f\"{index}_{key}_{dist:3.2f}.xyz\"\n",
    "#         f = open(fileName,\"w\")\n",
    "#         f.write(ig.ionIonXyz.format(ion1,ion2,at1,at2,equil*dist))\n",
    "#         f.close()"
   ]
  },
  {
   "cell_type": "code",
   "execution_count": 4,
   "id": "fc18d6bd",
   "metadata": {},
   "outputs": [],
   "source": [
    "# MP2\n",
    "\n",
    "mp2Dir = f\"{cwd}/../MP2\"\n",
    "os.chdir(mp2Dir)\n",
    "\n",
    "for key in ig.ionIon:\n",
    "    split = key.split(\"-\")\n",
    "    ion1 = split[0]\n",
    "    ion2 = split[1]\n",
    "    ac1 = ig.atomCharge[ion1]\n",
    "    ac2 = ig.atomCharge[ion2]\n",
    "    index = ig.index[key]\n",
    "    distances = ig.allTwoBody[key]\n",
    "    vdw1 = ig.vdwRadii[ion1]\n",
    "    vdw2 = ig.vdwRadii[ion2]\n",
    "    equil = vdw1 + vdw2\n",
    "    for dist in distances:\n",
    "        fileName = f\"{index}_{key}_{dist:3.2f}_mp2.in\"\n",
    "        f = open(fileName,\"w\")\n",
    "        f.write(ig.psi4Header.format(ig.memory))\n",
    "        f.write(ig.psi4Molecule.format(ig.ionIonPsi4.format(ac1,ion1,ac2,ion2,equil*dist)))\n",
    "        f.write(ig.psi4Set.format(ig.mp2SetPsi4))\n",
    "        f.write(ig.psi4Final.format(ig.mp2FinalPsi4))\n",
    "        f.close()"
   ]
  },
  {
   "cell_type": "code",
   "execution_count": 5,
   "id": "00e1c2f3",
   "metadata": {},
   "outputs": [],
   "source": [
    "# SAPT2+\n",
    "\n",
    "saptDir = f\"{cwd}/../SAPT2+\"\n",
    "os.chdir(saptDir)\n",
    "\n",
    "for key in ig.ionIon:\n",
    "    split = key.split(\"-\")\n",
    "    ion1 = split[0]\n",
    "    ion2 = split[1]\n",
    "    ac1 = ig.atomCharge[ion1]\n",
    "    ac2 = ig.atomCharge[ion2]\n",
    "    index = ig.index[key]\n",
    "    distances = ig.allTwoBody[key]\n",
    "    vdw1 = ig.vdwRadii[ion1]\n",
    "    vdw2 = ig.vdwRadii[ion2]\n",
    "    equil = vdw1 + vdw2\n",
    "    for dist in distances:\n",
    "        fileName = f\"{index}_{key}_{dist:3.2f}_sapt.in\"\n",
    "        f = open(fileName,\"w\")\n",
    "        f.write(ig.psi4Header.format(ig.memory))\n",
    "        f.write(ig.psi4Molecule.format(ig.ionIonPsi4.format(ac1,ion1,ac2,ion2,equil*dist)))\n",
    "        f.write(ig.psi4Set.format(ig.saptSetPsi4))\n",
    "        f.write(ig.psi4Final.format(ig.saptFinalPsi4))\n",
    "        f.close()"
   ]
  },
  {
   "cell_type": "code",
   "execution_count": 6,
   "id": "239b5b2b-1a5d-447e-abe2-a7271f9fd50a",
   "metadata": {},
   "outputs": [],
   "source": [
    "# ALMO\n",
    "\n",
    "almoDir = f\"{cwd}/../ALMO\"\n",
    "os.chdir(almoDir)\n",
    "\n",
    "for key in ig.ionIon:\n",
    "    split = key.split(\"-\")\n",
    "    ion1 = split[0]\n",
    "    ion2 = split[1]\n",
    "    ac1 = ig.atomCharge[ion1]\n",
    "    ac2 = ig.atomCharge[ion2]\n",
    "    ac = ac1+ac2\n",
    "    index = ig.index[key]\n",
    "    distances = ig.allTwoBody[key]\n",
    "    vdw1 = ig.vdwRadii[ion1]\n",
    "    vdw2 = ig.vdwRadii[ion2]\n",
    "    equil = vdw1 + vdw2\n",
    "    for dist in distances:\n",
    "        fileName = f\"{index}_{key}_{dist:3.2f}_almo.in\"\n",
    "        f = open(fileName,\"w\")\n",
    "        f.write(ig.almoMolecule.format(ig.ionIonQchem.format(ac,ac1,ion1,ac2,ion2,equil*dist)))\n",
    "        f.write(ig.almoFinal.format(ig.almoBasis))\n",
    "        f.close()"
   ]
  },
  {
   "cell_type": "code",
   "execution_count": null,
   "id": "25b1d429-8b91-4025-ae98-75342787bf28",
   "metadata": {},
   "outputs": [],
   "source": []
  }
 ],
 "metadata": {
  "kernelspec": {
   "display_name": "Python 3 (ipykernel)",
   "language": "python",
   "name": "python3"
  },
  "language_info": {
   "codemirror_mode": {
    "name": "ipython",
    "version": 3
   },
   "file_extension": ".py",
   "mimetype": "text/x-python",
   "name": "python",
   "nbconvert_exporter": "python",
   "pygments_lexer": "ipython3",
   "version": "3.10.9"
  }
 },
 "nbformat": 4,
 "nbformat_minor": 5
}
