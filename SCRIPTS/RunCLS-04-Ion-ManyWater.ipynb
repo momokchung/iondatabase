{
 "cells": [
  {
   "cell_type": "code",
   "execution_count": null,
   "metadata": {},
   "outputs": [],
   "source": [
    "import os\n",
    "import ion_gen as ig\n",
    "import glob"
   ]
  },
  {
   "cell_type": "code",
   "execution_count": null,
   "metadata": {},
   "outputs": [],
   "source": [
    "psi4Exe = \"/home/kchung25/miniconda3/envs/p4env/bin/psi4\"\n",
    "# qchemExe = \"/home/kchung25/qchem/5.4.0/bin/qchem\"\n",
    "\n",
    "cwd = os.getcwd()"
   ]
  },
  {
   "cell_type": "code",
   "execution_count": null,
   "metadata": {},
   "outputs": [],
   "source": [
    "# MP2\n",
    "\n",
    "mp2Dir = f\"{cwd}/../MP2\"\n",
    "os.chdir(mp2Dir)\n",
    "\n",
    "for key in ig.ionManyWater:\n",
    "    index = ig.index[key]\n",
    "    search = f\"{index}_{key}_CLS_*mp2.in\"\n",
    "    files = glob.glob(search)\n",
    "    files.sort()\n",
    "    for fileName in files:\n",
    "        print(fileName)\n",
    "        os.system(f\"{psi4Exe} -n 6 {fileName}\")"
   ]
  },
  {
   "cell_type": "code",
   "execution_count": null,
   "metadata": {},
   "outputs": [],
   "source": []
  }
 ],
 "metadata": {
  "kernelspec": {
   "display_name": "py310",
   "language": "python",
   "name": "python3"
  },
  "language_info": {
   "codemirror_mode": {
    "name": "ipython",
    "version": 3
   },
   "file_extension": ".py",
   "mimetype": "text/x-python",
   "name": "python",
   "nbconvert_exporter": "python",
   "pygments_lexer": "ipython3",
   "version": "3.10.13"
  }
 },
 "nbformat": 4,
 "nbformat_minor": 2
}
