{
 "cells": [
  {
   "cell_type": "code",
   "execution_count": null,
   "id": "bed809b5-880c-401c-af0d-4305cdb2c099",
   "metadata": {},
   "outputs": [],
   "source": [
    "import os\n",
    "import ion_gen as ig"
   ]
  },
  {
   "cell_type": "code",
   "execution_count": null,
   "id": "09e880b5-de8b-4ebc-a117-fda2073bd7b0",
   "metadata": {},
   "outputs": [],
   "source": [
    "psi4Exe = \"/home/kchung25/anaconda3/envs/psi4_19/bin/psi4\"\n",
    "qchemExe = \"/home/kchung25/qchem/5.4.0/bin/qchem\"\n",
    "\n",
    "cwd = os.getcwd()"
   ]
  },
  {
   "cell_type": "code",
   "execution_count": null,
   "id": "d5abf4e1-f610-49cc-936b-c756c277f16b",
   "metadata": {},
   "outputs": [],
   "source": [
    "# MP2\n",
    "\n",
    "mp2Dir = f\"{cwd}/../MP2\"\n",
    "os.chdir(mp2Dir)\n",
    "\n",
    "for key,item in ig.ion2Ion.items():\n",
    "    index = ig.index[key]\n",
    "    distances = ig.allTwoBody[key]\n",
    "    for dist in distances:\n",
    "        fileName = f\"{index}_{key}_{dist:3.2f}_mp2.in\"\n",
    "        os.system(f\"{psi4Exe} -n 6 {fileName}\")"
   ]
  },
  {
   "cell_type": "code",
   "execution_count": null,
   "id": "b3c52a78-822b-47ee-97db-2dc264e81c99",
   "metadata": {},
   "outputs": [],
   "source": [
    "# SAPT2+\n",
    "\n",
    "saptDir = f\"{cwd}/../SAPT2+\"\n",
    "os.chdir(saptDir)\n",
    "\n",
    "for key,item in ig.ion2Ion.items():\n",
    "    index = ig.index[key]\n",
    "    distances = ig.allTwoBody[key]\n",
    "    for dist in distances:\n",
    "        fileName = f\"{index}_{key}_{dist:3.2f}_sapt.in\"\n",
    "        os.system(f\"{psi4Exe} -n 6 {fileName}\")"
   ]
  },
  {
   "cell_type": "code",
   "execution_count": null,
   "id": "4ebb74d3-348d-4534-8721-47113a162d69",
   "metadata": {},
   "outputs": [],
   "source": [
    "# ALMO\n",
    "\n",
    "almoDir = f\"{cwd}/../ALMO\"\n",
    "os.chdir(almoDir)\n",
    "\n",
    "for key,item in ig.ion2Ion.items():\n",
    "    index = ig.index[key]\n",
    "    distances = ig.allTwoBody[key]\n",
    "    for dist in distances:\n",
    "        fileNameIn = f\"{index}_{key}_{dist:3.2f}_almo.in\"\n",
    "        fileNameOut = f\"{index}_{key}_{dist:3.2f}_almo.out\"\n",
    "        os.system(f\"{qchemExe} -np 6 -nt 6 {fileNameIn} {fileNameOut}\")"
   ]
  },
  {
   "cell_type": "code",
   "execution_count": null,
   "id": "daae4181-338d-4740-813c-9cb26b2d09aa",
   "metadata": {},
   "outputs": [],
   "source": []
  }
 ],
 "metadata": {
  "kernelspec": {
   "display_name": "Python 3 (ipykernel)",
   "language": "python",
   "name": "python3"
  },
  "language_info": {
   "codemirror_mode": {
    "name": "ipython",
    "version": 3
   },
   "file_extension": ".py",
   "mimetype": "text/x-python",
   "name": "python",
   "nbconvert_exporter": "python",
   "pygments_lexer": "ipython3",
   "version": "3.12.1"
  }
 },
 "nbformat": 4,
 "nbformat_minor": 5
}
