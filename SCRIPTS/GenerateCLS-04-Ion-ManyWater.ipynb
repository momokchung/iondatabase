{
 "cells": [
  {
   "cell_type": "code",
   "execution_count": 1,
   "id": "91e96ae4",
   "metadata": {},
   "outputs": [],
   "source": [
    "import os\n",
    "import ion_gen as ig\n",
    "import structure as st\n",
    "import re"
   ]
  },
  {
   "cell_type": "code",
   "execution_count": 2,
   "id": "5c2704fb",
   "metadata": {},
   "outputs": [],
   "source": [
    "cwd = os.getcwd()"
   ]
  },
  {
   "cell_type": "code",
   "execution_count": 4,
   "id": "08a3a7fc",
   "metadata": {},
   "outputs": [],
   "source": [
    "# MP2\n",
    "\n",
    "mp2Dir = f\"{cwd}/../MP2\"\n",
    "os.chdir(mp2Dir)\n",
    "\n",
    "for key in ig.ionManyWater:\n",
    "    split = key.split(\"-\")\n",
    "    ion1 = split[0]\n",
    "    ac1 = ig.atomCharge[ion1]\n",
    "    index = ig.index[key]\n",
    "    nw = int(re.search(r'\\d+', key).group())\n",
    "    struct = st.ionManyWaterStruct[key]\n",
    "    ionTxt = ig.atomCLSTemp.format(ion1,0,0,0)\n",
    "    ionGhTxt = ig.atomCLSTemp.format(f\"Gh({ion1})\",0,0,0)\n",
    "    watersLst = []\n",
    "    watersGhLst = []\n",
    "    for i in range(nw):\n",
    "        O_x  = struct[9*i+0]\n",
    "        O_y  = struct[9*i+1]\n",
    "        O_z  = struct[9*i+2]\n",
    "        H1_x = struct[9*i+3]\n",
    "        H1_y = struct[9*i+4]\n",
    "        H1_z = struct[9*i+5]\n",
    "        H2_x = struct[9*i+6]\n",
    "        H2_y = struct[9*i+7]\n",
    "        H2_z = struct[9*i+8]\n",
    "        watersTxt = \"\"\n",
    "        watersGhTxt = \"\"\n",
    "        watersTxt += ig.atomCLSTemp.format(\"O\",O_x,O_y,O_z)\n",
    "        watersTxt += ig.atomCLSTemp.format(\"H\",H1_x,H1_y,H1_z)\n",
    "        watersTxt += ig.atomCLSTemp.format(\"H\",H2_x,H2_y,H2_z)\n",
    "        watersGhTxt += ig.atomCLSTemp.format(\"Gh(O)\",O_x,O_y,O_z)\n",
    "        watersGhTxt += ig.atomCLSTemp.format(\"Gh(H)\",H1_x,H1_y,H1_z)\n",
    "        watersGhTxt += ig.atomCLSTemp.format(\"Gh(H)\",H2_x,H2_y,H2_z)\n",
    "        watersLst.append(watersTxt)\n",
    "        watersGhLst.append(watersGhTxt)\n",
    "    watersTxt = \"\"\n",
    "    for text in watersLst:\n",
    "        watersTxt += text\n",
    "    watersGhTxt = \"\"\n",
    "    for text in watersGhLst:\n",
    "        watersGhTxt += text\n",
    "    txt = ig.tempCLSPsi4.format(ac1,ionTxt+watersTxt)\n",
    "    fileName = f\"{index}_{key}_CLS_mp2.in\"\n",
    "    f = open(fileName,\"w\")\n",
    "    f.write(ig.psi4Header.format(ig.memory))\n",
    "    f.write(ig.psi4Molecule.format(txt))\n",
    "    f.write(ig.psi4Set.format(ig.mp2SetPsi4))\n",
    "    f.write(ig.psi4Final.format(ig.mp2FinalNoCPPsi4))\n",
    "    f.close()\n",
    "    txt = ig.tempCLSPsi4.format(ac1,ionTxt+watersGhTxt)\n",
    "    fileName = f\"{index}_{key}_CLS_0_mp2.in\"\n",
    "    f = open(fileName,\"w\")\n",
    "    f.write(ig.psi4Header.format(ig.memory))\n",
    "    f.write(ig.psi4Molecule.format(txt))\n",
    "    f.write(ig.psi4Set.format(ig.mp2SetPsi4))\n",
    "    f.write(ig.psi4Final.format(ig.mp2FinalNoCPPsi4))\n",
    "    f.close()\n",
    "    for i in range(nw):\n",
    "        tmpTxt = \"\"\n",
    "        for j in range(nw):\n",
    "            if i == j:\n",
    "                tmpTxt += watersLst[j]\n",
    "            else:\n",
    "                tmpTxt += watersGhLst[j]\n",
    "        txt = ig.tempCLSPsi4.format(0,ionGhTxt+tmpTxt)\n",
    "        fileName = f\"{index}_{key}_CLS_{str(i+1)}_mp2.in\"\n",
    "        f = open(fileName,\"w\")\n",
    "        f.write(ig.psi4Header.format(ig.memory))\n",
    "        f.write(ig.psi4Molecule.format(txt))\n",
    "        f.write(ig.psi4Set.format(ig.mp2SetPsi4))\n",
    "        f.write(ig.psi4Final.format(ig.mp2FinalNoCPPsi4))\n",
    "        f.close()\n",
    "        "
   ]
  },
  {
   "cell_type": "code",
   "execution_count": null,
   "id": "66e1832a",
   "metadata": {},
   "outputs": [],
   "source": []
  }
 ],
 "metadata": {
  "kernelspec": {
   "display_name": "Python 3 (ipykernel)",
   "language": "python",
   "name": "python3"
  },
  "language_info": {
   "codemirror_mode": {
    "name": "ipython",
    "version": 3
   },
   "file_extension": ".py",
   "mimetype": "text/x-python",
   "name": "python",
   "nbconvert_exporter": "python",
   "pygments_lexer": "ipython3",
   "version": "3.10.9"
  }
 },
 "nbformat": 4,
 "nbformat_minor": 5
}
