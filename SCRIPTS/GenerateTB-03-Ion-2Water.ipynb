{
 "cells": [
  {
   "cell_type": "code",
   "execution_count": 1,
   "id": "9e301c74-444d-4bad-a7fd-ff34749e672a",
   "metadata": {},
   "outputs": [],
   "source": [
    "import os\n",
    "import ion_gen as ig\n",
    "import structure as st"
   ]
  },
  {
   "cell_type": "code",
   "execution_count": 2,
   "id": "d309d4c7",
   "metadata": {},
   "outputs": [],
   "source": [
    "cwd = os.getcwd()"
   ]
  },
  {
   "cell_type": "code",
   "execution_count": 3,
   "id": "cb17e9cc-b6ff-456f-9bc5-817d381488cb",
   "metadata": {},
   "outputs": [],
   "source": [
    "# MP2\n",
    "\n",
    "mp2Dir = f\"{cwd}/../MP2\"\n",
    "os.chdir(mp2Dir)\n",
    "\n",
    "for key,item in ig.ion2WaterEquil.items():\n",
    "    split = key.split(\"-\")\n",
    "    ion1 = split[0]\n",
    "    ac1 = ig.atomCharge[ion1]\n",
    "    index = ig.index[key]\n",
    "    distances = ig.allTwoBody[key]\n",
    "    for dist in distances:\n",
    "        struct = list(st.ion2WaterStruct[key])\n",
    "        d = item*dist\n",
    "        if ion1 in [\"Li\", \"Na\", \"K\"]:\n",
    "            delta = d - struct[0]\n",
    "            d = 0\n",
    "            struct[0] += delta\n",
    "            struct[3] += delta\n",
    "            struct[6] += delta\n",
    "            struct[9] -= delta\n",
    "            struct[12] -= delta\n",
    "            struct[15] -= delta\n",
    "        fileName = f\"{index}_{key}_TB_{dist:3.2f}_mp2.in\"\n",
    "        f = open(fileName,\"w\")\n",
    "        f.write(ig.psi4Header.format(ig.memory))\n",
    "        f.write(ig.psi4Molecule.format(ig.ion2WaterTBPsi4.format(ac1,ion1,d,*struct)))\n",
    "        f.write(ig.psi4Set.format(ig.mp2SetPsi4))\n",
    "        f.write(ig.psi4Final.format(ig.mp2FinalPsi4))\n",
    "        f.close()"
   ]
  },
  {
   "cell_type": "code",
   "execution_count": null,
   "id": "38f93614-dc49-412f-b962-737b7eb5b74a",
   "metadata": {},
   "outputs": [],
   "source": []
  }
 ],
 "metadata": {
  "kernelspec": {
   "display_name": "Python 3 (ipykernel)",
   "language": "python",
   "name": "python3"
  },
  "language_info": {
   "codemirror_mode": {
    "name": "ipython",
    "version": 3
   },
   "file_extension": ".py",
   "mimetype": "text/x-python",
   "name": "python",
   "nbconvert_exporter": "python",
   "pygments_lexer": "ipython3",
   "version": "3.10.9"
  }
 },
 "nbformat": 4,
 "nbformat_minor": 5
}
