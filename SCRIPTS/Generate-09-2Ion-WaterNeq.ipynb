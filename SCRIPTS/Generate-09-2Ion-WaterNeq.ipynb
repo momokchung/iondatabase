{
 "cells": [
  {
   "cell_type": "code",
   "execution_count": 1,
   "id": "f6533287",
   "metadata": {},
   "outputs": [],
   "source": [
    "import os\n",
    "import ion_gen as ig\n",
    "import structure as st\n",
    "import numpy as np"
   ]
  },
  {
   "cell_type": "code",
   "execution_count": 2,
   "id": "2dc86a4e",
   "metadata": {},
   "outputs": [],
   "source": [
    "cwd = os.getcwd()"
   ]
  },
  {
   "cell_type": "code",
   "execution_count": 3,
   "id": "d9052773",
   "metadata": {},
   "outputs": [],
   "source": [
    "# # Tinker\n",
    "\n",
    "# xyzDir = f\"{cwd}/../XYZ\"\n",
    "# os.chdir(xyzDir)\n",
    "\n",
    "# for key in ig.ion2WaterNeq:\n",
    "#     split = key.split(\"-\")\n",
    "#     ion1 = split[0][1:]\n",
    "#     at1 = ig.atomType[ion1]\n",
    "#     index = ig.index[key]\n",
    "#     distances = ig.allTwoBody[key]\n",
    "#     vdw1 = ig.vdwRadii[ion1]\n",
    "#     equil = vdw1 + 1.4\n",
    "#     if ion1 in [\"Li\",\"Na\",\"K\"]:\n",
    "#         itype = \"cation\"\n",
    "#     elif ion1 in [\"F\",\"Cl\",\"Br\"]:\n",
    "#         itype = \"anion\"\n",
    "#     struct = st.ion2WaterNeqStruct[itype]\n",
    "#     for dist in distances:\n",
    "#         d = np.sqrt((equil*dist)**2/2)\n",
    "#         fileName = f\"{index}_{key}_{dist:3.2f}.xyz\"\n",
    "#         f = open(fileName,\"w\")\n",
    "#         f.write(ig.ion2WaterNeqXyz.format(*struct,ion1,d,d,at1,ion1,d,-d,at1))\n",
    "#         f.close()"
   ]
  },
  {
   "cell_type": "code",
   "execution_count": 4,
   "id": "fc18d6bd",
   "metadata": {},
   "outputs": [],
   "source": [
    "# MP2\n",
    "\n",
    "mp2Dir = f\"{cwd}/../MP2\"\n",
    "os.chdir(mp2Dir)\n",
    "\n",
    "for key in ig.ion2WaterNeq:\n",
    "    split = key.split(\"-\")\n",
    "    ion1 = split[0][1:]\n",
    "    ac1 = ig.atomCharge[ion1]\n",
    "    index = ig.index[key]\n",
    "    distances = ig.allTwoBody[key]\n",
    "    vdw1 = ig.vdwRadii[ion1]\n",
    "    equil = vdw1 + 1.4\n",
    "    if ion1 in [\"Li\",\"Na\",\"K\"]:\n",
    "        itype = \"cation\"\n",
    "    elif ion1 in [\"F\",\"Cl\",\"Br\"]:\n",
    "        itype = \"anion\"\n",
    "    struct = st.ion2WaterNeqStruct[itype]\n",
    "    for dist in distances:\n",
    "        d = np.sqrt((equil*dist)**2/2)\n",
    "        fileName = f\"{index}_{key}_{dist:3.2f}_mp2.in\"\n",
    "        f = open(fileName,\"w\")\n",
    "        f.write(ig.psi4Header.format(ig.memory))\n",
    "        f.write(ig.psi4Molecule.format(ig.ion2WaterNeqPsi4.format(*struct,2*ac1,ion1,d,d,ion1,d,-d)))\n",
    "        f.write(ig.psi4Set.format(ig.mp2SetPsi4))\n",
    "        f.write(ig.psi4Final.format(ig.mp2FinalPsi4))\n",
    "        f.close()"
   ]
  },
  {
   "cell_type": "code",
   "execution_count": 5,
   "id": "00e1c2f3",
   "metadata": {},
   "outputs": [],
   "source": [
    "# SAPT2+\n",
    "\n",
    "saptDir = f\"{cwd}/../SAPT2+\"\n",
    "os.chdir(saptDir)\n",
    "\n",
    "for key in ig.ion2WaterNeq:\n",
    "    split = key.split(\"-\")\n",
    "    ion1 = split[0][1:]\n",
    "    ac1 = ig.atomCharge[ion1]\n",
    "    index = ig.index[key]\n",
    "    distances = ig.allTwoBody[key]\n",
    "    vdw1 = ig.vdwRadii[ion1]\n",
    "    equil = vdw1 + 1.4\n",
    "    if ion1 in [\"Li\",\"Na\",\"K\"]:\n",
    "        itype = \"cation\"\n",
    "    elif ion1 in [\"F\",\"Cl\",\"Br\"]:\n",
    "        itype = \"anion\"\n",
    "    struct = st.ion2WaterNeqStruct[itype]\n",
    "    for dist in distances:\n",
    "        d = np.sqrt((equil*dist)**2/2)\n",
    "        fileName = f\"{index}_{key}_{dist:3.2f}_sapt.in\"\n",
    "        f = open(fileName,\"w\")\n",
    "        f.write(ig.psi4Header.format(ig.memory))\n",
    "        f.write(ig.psi4Molecule.format(ig.ion2WaterNeqPsi4.format(*struct,2*ac1,ion1,d,d,ion1,d,-d)))\n",
    "        f.write(ig.psi4Set.format(ig.saptSetPsi4))\n",
    "        f.write(ig.psi4Final.format(ig.saptFinalPsi4))\n",
    "        f.close()"
   ]
  },
  {
   "cell_type": "code",
   "execution_count": 6,
   "id": "239b5b2b-1a5d-447e-abe2-a7271f9fd50a",
   "metadata": {},
   "outputs": [],
   "source": [
    "# ALMO\n",
    "\n",
    "almoDir = f\"{cwd}/../ALMO\"\n",
    "os.chdir(almoDir)\n",
    "\n",
    "for key in ig.ion2WaterNeq:\n",
    "    split = key.split(\"-\")\n",
    "    ion1 = split[0][1:]\n",
    "    ac1 = ig.atomCharge[ion1]\n",
    "    index = ig.index[key]\n",
    "    distances = ig.allTwoBody[key]\n",
    "    vdw1 = ig.vdwRadii[ion1]\n",
    "    equil = vdw1 + 1.4\n",
    "    if ion1 in [\"Li\",\"Na\",\"K\"]:\n",
    "        itype = \"cation\"\n",
    "    elif ion1 in [\"F\",\"Cl\",\"Br\"]:\n",
    "        itype = \"anion\"\n",
    "    struct = st.ion2WaterNeqStruct[itype]\n",
    "    for dist in distances:\n",
    "        d = np.sqrt((equil*dist)**2/2)\n",
    "        fileName = f\"{index}_{key}_{dist:3.2f}_almo.in\"\n",
    "        f = open(fileName,\"w\")\n",
    "        f.write(ig.almoMolecule.format(ig.ion2WaterNeqQchem.format(2*ac1,*struct,2*ac1,ion1,d,d,ion1,d,-d)))\n",
    "        f.write(ig.almoFinal.format(ig.almoBasis))\n",
    "        f.close()"
   ]
  },
  {
   "cell_type": "code",
   "execution_count": null,
   "id": "25b1d429-8b91-4025-ae98-75342787bf28",
   "metadata": {},
   "outputs": [],
   "source": []
  }
 ],
 "metadata": {
  "kernelspec": {
   "display_name": "Python 3 (ipykernel)",
   "language": "python",
   "name": "python3"
  },
  "language_info": {
   "codemirror_mode": {
    "name": "ipython",
    "version": 3
   },
   "file_extension": ".py",
   "mimetype": "text/x-python",
   "name": "python",
   "nbconvert_exporter": "python",
   "pygments_lexer": "ipython3",
   "version": "3.10.9"
  }
 },
 "nbformat": 4,
 "nbformat_minor": 5
}
